{
 "cells": [
  {
   "cell_type": "markdown",
   "metadata": {},
   "source": [
    "# IS362 Project 1 \n",
    "## David Vayman\n",
    "\n",
    "\n"
   ]
  },
  {
   "cell_type": "markdown",
   "metadata": {},
   "source": [
    "### Load .Csv file into pandas "
   ]
  },
  {
   "cell_type": "code",
   "execution_count": 12,
   "metadata": {
    "collapsed": false
   },
   "outputs": [
    {
     "data": {
      "text/html": [
       "<div>\n",
       "<table border=\"1\" class=\"dataframe\">\n",
       "  <thead>\n",
       "    <tr style=\"text-align: right;\">\n",
       "      <th></th>\n",
       "      <th>Status</th>\n",
       "      <th>Los Angeles</th>\n",
       "      <th>Phoenix</th>\n",
       "      <th>San Diego</th>\n",
       "      <th>San francisco</th>\n",
       "      <th>Seattle</th>\n",
       "    </tr>\n",
       "  </thead>\n",
       "  <tbody>\n",
       "    <tr>\n",
       "      <th>Alaska</th>\n",
       "      <td>On time</td>\n",
       "      <td>497</td>\n",
       "      <td>221</td>\n",
       "      <td>212</td>\n",
       "      <td>503</td>\n",
       "      <td>1841</td>\n",
       "    </tr>\n",
       "    <tr>\n",
       "      <th>Alaska</th>\n",
       "      <td>Delayed</td>\n",
       "      <td>62</td>\n",
       "      <td>21</td>\n",
       "      <td>20</td>\n",
       "      <td>102</td>\n",
       "      <td>305</td>\n",
       "    </tr>\n",
       "    <tr>\n",
       "      <th>AM west</th>\n",
       "      <td>On time</td>\n",
       "      <td>694</td>\n",
       "      <td>4849</td>\n",
       "      <td>383</td>\n",
       "      <td>320</td>\n",
       "      <td>201</td>\n",
       "    </tr>\n",
       "    <tr>\n",
       "      <th>AM west</th>\n",
       "      <td>Delayed</td>\n",
       "      <td>117</td>\n",
       "      <td>415</td>\n",
       "      <td>65</td>\n",
       "      <td>129</td>\n",
       "      <td>61</td>\n",
       "    </tr>\n",
       "  </tbody>\n",
       "</table>\n",
       "</div>"
      ],
      "text/plain": [
       "            Status  Los Angeles  Phoenix   San Diego   San francisco  Seattle\n",
       "Alaska    On time           497       221         212            503     1841\n",
       "Alaska    Delayed            62        21          20            102      305\n",
       "AM west   On time           694      4849         383            320      201\n",
       "AM west   Delayed           117       415          65            129       61"
      ]
     },
     "execution_count": 12,
     "metadata": {},
     "output_type": "execute_result"
    }
   ],
   "source": [
    "import numpy as np\n",
    "import pandas as pd \n",
    "\n",
    "project1 = pd.read_csv(\"desktop/Project1.csv\", index_col =0)\n",
    "\n",
    "\n",
    "project1.head()"
   ]
  },
  {
   "cell_type": "markdown",
   "metadata": {},
   "source": [
    "# Analysis of Data \n",
    "##### The chart above describes arrival delays for two airlines across five destinations.  \n",
    "\n",
    "### This chart displays number of on-time flights to a given destination and the number of delayed flights to those destinations. This data is taken from a bi-quarterly report.\n",
    "\n",
    "## Precentages of Flight delays per Destination\n",
    "\n",
    "#### Alaska airlines  flights to Los Angeles  11.1% Flights delayed \n",
    "#### AM West airleines flights to Los Angeles 14.4% Flights delayed \n",
    "#### Alaska airlines  flights to Phoneix   8.7%%  Flights delayed \n",
    "#### AM West airleines flights to Phoenix 7.9% Flights delayed \n",
    "#### Alaska airlines  flights to San Diego 8.6%  Flights delayed \n",
    "#### AM West airleines flights to San Diego 14.5% Flights delayed \n",
    "#### Alaska airlines  San francisco  16.9% Flights delayed \n",
    "#### AM West airleines flights to San francisco 28.7% Flights delayed \n",
    "#### Alaska airlines Seattle 14.2% Flights delayed \n",
    "#### AM West airleines flights to Seattle 23.3% Flights delayed \n",
    "\n",
    "\n",
    "## Percentage of Total flight delays to On-time arrivals Per airline \n",
    "\n",
    "### Alaska Airlines \n",
    "##### Total Flights = 3,784\n",
    "##### Total On-time Flights = 3,274\n",
    "##### Total delayed Flights = 510\n",
    "#### Percentage of delays = 13.5 %\n",
    "\n",
    "### AM West airlines \n",
    "##### Total Flights = 7,234\n",
    "##### Total On-time Flights = 6,447\n",
    "##### Total delayed Flights = 787\n",
    "#### Percentage of delays = 10.9%\n"
   ]
  }
 ],
 "metadata": {
  "anaconda-cloud": {},
  "kernelspec": {
   "display_name": "Python [default]",
   "language": "python",
   "name": "python3"
  },
  "language_info": {
   "codemirror_mode": {
    "name": "ipython",
    "version": 3
   },
   "file_extension": ".py",
   "mimetype": "text/x-python",
   "name": "python",
   "nbconvert_exporter": "python",
   "pygments_lexer": "ipython3",
   "version": "3.5.2"
  }
 },
 "nbformat": 4,
 "nbformat_minor": 1
}
